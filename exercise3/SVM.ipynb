{
  "cells": [
    {
      "cell_type": "markdown",
      "metadata": {
        "id": "8_RGE1AdJKDS"
      },
      "source": [
        "<img src=\"./sharif.png\" alt=\"SUT logo\" width=300 height=300 align=left class=\"saturate\">\n",
        "\n",
        "<br>\n",
        "<font>\n",
        "<div dir=ltr align=center>\n",
        "<font color=0F5298 size=7>\n",
        "    Machine Learning <br>\n",
        "<font color=2565AE size=5>\n",
        "    Computer Engineering Department <br>\n",
        "    Spring 2024<br>\n",
        "<font color=3C99D size=5>\n",
        "    Practical Assignment 3<br>\n",
        "<font color=696880 size=4>\n",
        "    Ashkan Majidi - Shayan Salehi - Amirhossein Alamdar\n",
        "\n",
        "____"
      ]
    },
    {
      "cell_type": "markdown",
      "metadata": {
        "id": "PvHYN3QQJKDU"
      },
      "source": [
        "# Personal Data"
      ]
    },
    {
      "cell_type": "code",
      "execution_count": 14,
      "metadata": {
        "id": "A5ZQRmF6JKDV"
      },
      "outputs": [],
      "source": [
        "student_number = '99100036'\n",
        "first_name = 'Hooman'\n",
        "last_name = 'Zolfaghari'"
      ]
    },
    {
      "cell_type": "markdown",
      "metadata": {
        "id": "2s5-wr3DJKDW"
      },
      "source": [
        "# Introduction\n",
        "\n",
        "In this assignment, you will implement SVM (Support Vector Machines) for classification.\n"
      ]
    },
    {
      "cell_type": "markdown",
      "metadata": {
        "id": "M0hVxAbJJKDW"
      },
      "source": [
        "# Data Prepfocessing"
      ]
    },
    {
      "cell_type": "markdown",
      "metadata": {
        "id": "SD68fgUCJKDW"
      },
      "source": [
        "Import your needed libraries in following cell."
      ]
    },
    {
      "cell_type": "code",
      "execution_count": 15,
      "metadata": {
        "id": "LNq72Cv2JKDW"
      },
      "outputs": [],
      "source": [
        "# TODO: Write your code here\n",
        "import pandas as pd\n",
        "import numpy as np\n",
        "from sklearn.model_selection import train_test_split\n",
        "from sklearn.preprocessing import StandardScaler, LabelEncoder\n",
        "import cvxopt\n",
        "import seaborn as sns\n",
        "import matplotlib.pyplot as plt\n",
        "from sklearn.metrics import accuracy_score, balanced_accuracy_score, confusion_matrix"
      ]
    },
    {
      "cell_type": "markdown",
      "metadata": {
        "id": "Lvforu8-JKDX"
      },
      "source": [
        "Load data from ```satimage``` dataset and split data to features and labels. The ```label``` column is our target variable."
      ]
    },
    {
      "cell_type": "code",
      "execution_count": 16,
      "metadata": {
        "id": "qpWddKcgJKDX"
      },
      "outputs": [],
      "source": [
        "# TODO: Write your code here\n",
        "df = pd.read_csv(\"/content/satimage.csv\")\n",
        "X = df.iloc[:,:-1].to_numpy()\n",
        "y = df.iloc[:,[-1]].to_numpy().flatten()\n",
        "#X = df.drop(columns=['label'])\n",
        "#y = df['label']\n"
      ]
    },
    {
      "cell_type": "markdown",
      "metadata": {
        "id": "aQpNHJDKJKDX"
      },
      "source": [
        "Now split data to train, validation and test parts. 60% of data should be used for train, 15% for validation and 25% for test. After that scale the data to Standard Normal Distribution using ```StandardScaler``` class from ```scikit-learn``` library."
      ]
    },
    {
      "cell_type": "code",
      "execution_count": 17,
      "metadata": {
        "id": "R5Ctiq3iJKDX"
      },
      "outputs": [],
      "source": [
        "# TODO: Write your code here\n",
        "X_train, X_temp, y_train, y_temp = train_test_split(X, y, test_size=0.4, random_state=5)\n",
        "X_val, X_test, y_val, y_test = train_test_split(X_temp, y_temp, test_size=0.625, random_state=5)\n",
        "\n",
        "scaler = StandardScaler()\n",
        "X_train_scaled = scaler.fit_transform(X_train)\n",
        "X_val_scaled = scaler.transform(X_val)\n",
        "X_test_scaled = scaler.transform(X_test)"
      ]
    },
    {
      "cell_type": "markdown",
      "metadata": {
        "id": "OmDdvPiQJKDX"
      },
      "source": [
        "We want to train Binary SVM model for classification between labels 4 and 6. Choose corresponding datas and convert their lables to 1 and -1 respectively for 4 and 6."
      ]
    },
    {
      "cell_type": "code",
      "execution_count": 18,
      "metadata": {
        "id": "R7WxO-b5JKDX"
      },
      "outputs": [],
      "source": [
        "# TODO: Write your code here\n",
        "relevant_indices = (y_train == 4) | (y_train == 6)\n",
        "X_relevant_train = X_train_scaled[relevant_indices]\n",
        "y_relevant_train = y_train[relevant_indices]\n",
        "\n",
        "test_relevant_indices = (y_test == 4) | (y_test == 6)\n",
        "X_relevant_test = X_test_scaled[test_relevant_indices]\n",
        "y_relevant_test = y_test[test_relevant_indices]\n",
        "\n",
        "val_relevant_indices = (y_val == 4) | (y_val == 6)\n",
        "X_relevant_val = X_val_scaled[val_relevant_indices]\n",
        "y_relevant_val = y_val[val_relevant_indices]\n",
        "\n",
        "label_encoder = LabelEncoder()\n",
        "\n",
        "y_binary_train = label_encoder.fit_transform(y_relevant_train)\n",
        "y_binary_train = 2 * y_binary_train - 1\n",
        "\n",
        "y_binary_val = label_encoder.fit_transform(y_relevant_val)\n",
        "y_binary_val = 2 * y_binary_val - 1\n",
        "\n",
        "y_binary_test = label_encoder.fit_transform(y_relevant_test)\n",
        "y_binary_test = 2 * y_binary_test - 1"
      ]
    },
    {
      "cell_type": "markdown",
      "metadata": {
        "id": "6_ILU1ltJKDY"
      },
      "source": [
        "# Model (50 points)"
      ]
    },
    {
      "cell_type": "markdown",
      "metadata": {
        "id": "XbN8QY8mJKDY"
      },
      "source": [
        "Here is soft margin svm convex optimization formulation.\n",
        "$$\n",
        "\\begin{aligned}\n",
        "\\text { Minimize } & \\frac{1}{2}\\|\\mathbf{w}\\|^2+C \\sum_{i=1}^N \\xi_i \\\\\n",
        "\\text { Subject to } & y_i\\left(\\mathbf{w}^T \\mathbf{x}_i+b\\right) \\geq 1-\\xi_i, \\quad i=1,2, \\ldots, N \\\\\n",
        "& \\xi_i \\geq 0, \\quad i=1,2, \\ldots, N\n",
        "\\end{aligned}\n",
        "$$\n",
        "write dual of the soft margin svm optimization problem below:"
      ]
    },
    {
      "cell_type": "markdown",
      "metadata": {
        "id": "u8ub-81sJKDY"
      },
      "source": [
        "`TODO: Write Here` \\\\\n",
        "Lagrange formulation:\n",
        "$$\n",
        "\\begin{align}\n",
        "\\text { Minimize } & 𝓛\\left(\\mathbf{w},w_0,ξ,α,β\\right) =\n",
        " \\frac{1}{2}\\|\\mathbf{w}\\|^2+C \\sum_{i=1}^N \\xi_i \\\\\n",
        " & + ∑_{i=1}^N α_i\\left(1 - ξ_i - y_i\\left(\\mathbf{w}^T \\mathbf{x}_i+b\\right)\\right)\n",
        "- ∑_{i=1}^N β_iξ_i, \\quad i=1,2, \\ldots, N \\\\\n",
        "& \\text{ w.r.t } \\mathbf{w},\\, w_0, \\, ξ \\text{ and maximize w.r.t } α_i \\geq 0 \\text{ and } β_i \\geq 0\n",
        "\\end{align}\n",
        "$$\n",
        "dual problem:\n",
        "$$\n",
        "\\begin{equation}\n",
        "\\text{Maximize }\\tilde{𝓛}\\left(\\mathbf{w},w_0,ξ,α,β\\right) = \\sum_{i=1}^N α_i - \\frac{1}{2}\n",
        "\\sum_{n=1}^{N}\\sum_{m=1}^{N} α_nα_my_ny_mk(\\mathbf{x}_n,\\mathbf{x}_m) \\\\\n",
        " \\text{s.t. } 0 \\leqα_i\\leq C \\text{ and } \\sum_{n=1}^N α_iy_i = 0\n",
        "\\end{equation}\n",
        "$$\n"
      ]
    },
    {
      "cell_type": "markdown",
      "metadata": {
        "id": "4imXEX4TJKDY"
      },
      "source": [
        "Now you should write this optimization problem in standard Quadratic Program (QP) form and use a QP solver to find optimal answer. Here is General form of a QP:\n",
        "$$\n",
        "\\begin{aligned}\n",
        "\\text { Minimize } & \\frac{1}{2} x^TPx + q^Tx + r \\\\\n",
        "\\text { Subject to } & Gx \\leq h \\\\\n",
        "& Ax = b\n",
        "\\end{aligned}\n",
        "$$\n",
        "\n",
        "Complete functions below and use ```cvxopt``` library which is a common library for solving QPs. Note that you can't use ```scikit-learn``` library.\n"
      ]
    },
    {
      "cell_type": "code",
      "execution_count": 19,
      "metadata": {
        "id": "6jULOw7eJKDY"
      },
      "outputs": [],
      "source": [
        "def soft_margin_svm(X, y, C):\n",
        "    \"\"\"\n",
        "    input:\n",
        "        X: training data\n",
        "        y: training labels\n",
        "        C: errors weight\n",
        "    output:\n",
        "        support_vectros: data points which are SVs of our model.\n",
        "        support_vector_labels: labels of SVs\n",
        "        support_vector_alphas: alpha coefficient of corresponding SVs\n",
        "    \"\"\"\n",
        "\n",
        "    # TODO: Write your code here\n",
        "\n",
        "    n_samples, n_features = X.shape\n",
        "\n",
        "    y = y.reshape(-1,1) * 1.\n",
        "    X_dash = y * X\n",
        "\n",
        "    #print(f\"P:{(np.dot(X_dash,X_dash.T)* 1.).shape}\\n{np.dot(X_dash,X_dash.T)* 1.}\")\n",
        "\n",
        "    P = cvxopt.matrix(np.dot(X_dash,X_dash.T)* 1.)\n",
        "    q = cvxopt.matrix(-1 * np.ones((n_samples)))\n",
        "\n",
        "    t1 = np.diag(-1 * np.ones(n_samples))\n",
        "    t2 = np.identity(n_samples)\n",
        "    G = cvxopt.matrix(np.vstack((t1,t2)))\n",
        "\n",
        "    h = cvxopt.matrix(np.hstack((np.zeros(n_samples), C * np.ones(n_samples))))\n",
        "\n",
        "    A = cvxopt.matrix(y,(1,n_samples))\n",
        "    #print(f\"A:{A}\")\n",
        "    b = cvxopt.matrix(0.0)\n",
        "\n",
        "    solution = cvxopt.solvers.qp(P, q, G, h, A, b)\n",
        "\n",
        "    alphas = np.ravel(solution['x'])\n",
        "    support_vector_indices = np.where(alphas > 1e-5)[0]\n",
        "    support_vectors = X[support_vector_indices]\n",
        "    support_vector_labels = y[support_vector_indices]\n",
        "    support_vector_alphas = alphas[support_vector_indices]\n",
        "\n",
        "    return support_vectors, support_vector_labels, support_vector_alphas\n"
      ]
    },
    {
      "cell_type": "code",
      "execution_count": 20,
      "metadata": {
        "colab": {
          "base_uri": "https://localhost:8080/"
        },
        "id": "Lke2w0uoJKDY",
        "outputId": "095c00e4-1bce-41c1-e187-0e1110212d4d"
      },
      "outputs": [
        {
          "output_type": "stream",
          "name": "stdout",
          "text": [
            "     pcost       dcost       gap    pres   dres\n",
            " 0: -6.2865e+02 -3.4385e+03  2e+04  3e+00  2e-13\n",
            " 1: -4.2983e+02 -2.3323e+03  3e+03  4e-01  2e-13\n",
            " 2: -4.0296e+02 -8.0356e+02  5e+02  3e-02  1e-13\n",
            " 3: -4.4928e+02 -5.7694e+02  1e+02  9e-03  1e-13\n",
            " 4: -4.6589e+02 -5.4623e+02  9e+01  5e-03  1e-13\n",
            " 5: -4.7748e+02 -5.2343e+02  5e+01  2e-03  1e-13\n",
            " 6: -4.8745e+02 -5.0520e+02  2e+01  6e-04  1e-13\n",
            " 7: -4.9168e+02 -4.9839e+02  7e+00  1e-04  1e-13\n",
            " 8: -4.9315e+02 -4.9624e+02  3e+00  5e-05  1e-13\n",
            " 9: -4.9416e+02 -4.9490e+02  8e-01  8e-06  1e-13\n",
            "10: -4.9444e+02 -4.9455e+02  1e-01  8e-07  2e-13\n",
            "11: -4.9448e+02 -4.9450e+02  2e-02  1e-07  1e-13\n",
            "12: -4.9449e+02 -4.9449e+02  8e-04  2e-16  2e-13\n",
            "13: -4.9449e+02 -4.9449e+02  1e-05  6e-15  2e-13\n",
            "Optimal solution found.\n"
          ]
        }
      ],
      "source": [
        "C = 1.0\n",
        "support_vectors, support_vector_labels, support_vector_alphas = soft_margin_svm(X_relevant_train, y_binary_train, C)"
      ]
    },
    {
      "cell_type": "code",
      "execution_count": 23,
      "metadata": {
        "id": "5oghJAqhJKDZ"
      },
      "outputs": [],
      "source": [
        "def predict_labels(x_test, support_vectors, support_vector_labels, support_vector_alphas):\n",
        "    \"\"\"\n",
        "    input:\n",
        "        x_test: test data\n",
        "        support_vectros: data points which are SVs of our model.\n",
        "        support_vector_labels: labels of SVs\n",
        "        support_vector_alphas: alpha coefficient of corresponding SVs\n",
        "    output:\n",
        "        y_pred: predictoin labels\n",
        "    \"\"\"\n",
        "    # TODO: Write your code here\n",
        "    #w = np.dot((support_vector_alphas * support_vector_labels).reshape(1,-1), support_vectors).flatten()\n",
        "    w = np.zeros(x_test.shape[1])\n",
        "    for n in range(len(support_vector_alphas)):\n",
        "        w += support_vector_alphas[n] * support_vector_labels[n] * support_vectors[n]\n",
        "\n",
        "    Kb = np.zeros((len(support_vectors),len(support_vectors)))\n",
        "    for i in range(len(support_vectors)):\n",
        "      for j in range(len(support_vectors)):\n",
        "        Kb[i][j] = np.dot(support_vectors[i],support_vectors[j])\n",
        "    b = 0\n",
        "    for n in range(len(support_vectors)):\n",
        "      b = b + support_vector_labels[n]\n",
        "      b -= np.sum((support_vector_alphas * support_vector_labels.flatten()) * Kb[i])\n",
        "    b = b / len(support_vectors)\n",
        "\n",
        "    y_pred = np.dot(x_test,w) + b\n",
        "\n",
        "    return np.sign(y_pred)"
      ]
    },
    {
      "cell_type": "code",
      "execution_count": 24,
      "metadata": {
        "id": "wrikLE-tJKDZ"
      },
      "outputs": [],
      "source": [
        "y_pred = predict_labels(np.array(X_relevant_test), support_vectors, support_vector_labels, support_vector_alphas)"
      ]
    },
    {
      "cell_type": "markdown",
      "metadata": {
        "id": "irzCAOwaJKDZ"
      },
      "source": [
        "# Evaluation (20 points)"
      ]
    },
    {
      "cell_type": "markdown",
      "metadata": {
        "id": "4e0sIm-lJKDZ"
      },
      "source": [
        "Compute accuracy, balanced accuracy and plot confusion matrix of your trained model using ```Seaborn.heatmap()``` function. Use case of balanced accuracy is when dealing with imbalanced data, i.e. when one of the target classes appears a lot more than the other and it is defined by average of recall of classes. Confusion matrix is a $k\\times k$ (k is number of classes) matrix which cell ij is showing that number of data points labeld i which predicted j. For more detail of evaluation metrics you can see [here](https://neptune.ai/blog/balanced-accuracy).\n",
        "\n",
        "You may use ```scikit-learn``` library to compute these metrics."
      ]
    },
    {
      "cell_type": "code",
      "execution_count": 25,
      "metadata": {
        "id": "PG5GuI-nJKDZ",
        "outputId": "39054ee5-d5b1-4b28-8e0a-08aad6e2299d",
        "colab": {
          "base_uri": "https://localhost:8080/"
        }
      },
      "outputs": [
        {
          "output_type": "stream",
          "name": "stdout",
          "text": [
            "Accuracy:  0.83203125\n",
            "Balanced Accuracy:  0.8160856901249648\n",
            "Confusion Matrix:\n",
            " [[113  32]\n",
            " [ 54 313]]\n"
          ]
        }
      ],
      "source": [
        "def evaluate(y_test, y_pred):\n",
        "    \"\"\"\n",
        "    input:\n",
        "        y_test: true labels\n",
        "        y_pred: predicted labels\n",
        "    output:\n",
        "        accuracy: accuracy of the model\n",
        "        balanced_accuracy: balanced accuracy of the model\n",
        "        confusion_matrix: confusion matrix of the model\n",
        "    \"\"\"\n",
        "    # TODO: Write your code here\n",
        "\n",
        "    accuracy = accuracy_score(y_test, y_pred)\n",
        "    balanced_accuracy = balanced_accuracy_score(y_test, y_pred)\n",
        "    confusion_mat = confusion_matrix(y_test, y_pred)\n",
        "\n",
        "    print(\"Accuracy: \", accuracy)\n",
        "    print(\"Balanced Accuracy: \", balanced_accuracy)\n",
        "    print(\"Confusion Matrix:\\n\", confusion_mat)\n",
        "\n",
        "\n",
        "    return accuracy, balanced_accuracy, confusion_mat\n",
        "\n",
        "\n",
        "\n",
        "_, _, confusion_mat = evaluate(y_binary_test, y_pred)"
      ]
    },
    {
      "cell_type": "code",
      "execution_count": 26,
      "metadata": {
        "id": "37zYM2wbJKDZ",
        "outputId": "ab5c605f-9a4d-4d96-f216-ca2cccb23409",
        "colab": {
          "base_uri": "https://localhost:8080/",
          "height": 448
        }
      },
      "outputs": [
        {
          "output_type": "execute_result",
          "data": {
            "text/plain": [
              "<Axes: >"
            ]
          },
          "metadata": {},
          "execution_count": 26
        },
        {
          "output_type": "display_data",
          "data": {
            "text/plain": [
              "<Figure size 640x480 with 2 Axes>"
            ],
            "image/png": "[encoded data removed]"
          },
          "metadata": {}
        }
      ],
      "source": [
        "cm_matrix = pd.DataFrame(data=confusion_mat, columns=['Predict Negative:-1', 'Predict Positive:1'],\n",
        "                                 index=['Actual Negative:-1', 'Actual Positive:1'])\n",
        "\n",
        "sns.heatmap(cm_matrix, annot=True, fmt='d', cmap='mako')"
      ]
    },
    {
      "cell_type": "markdown",
      "metadata": {
        "id": "FEO3AJRqJKDZ"
      },
      "source": [
        "# Fine-tunning (40 points)"
      ]
    },
    {
      "cell_type": "markdown",
      "metadata": {
        "id": "MjwzNL_JJKDZ"
      },
      "source": [
        "like what you did before, implement Soft Margin SVM but now use rbf kernel. To determine rbf $\\gamma$ parameter use validation datas and find best(best by balanced accuracy) $\\gamma$ between 0.001 , 0.01, 1, 10, 100. Not that you can't use ```scikit-learn``` library here."
      ]
    },
    {
      "cell_type": "code",
      "execution_count": 27,
      "metadata": {
        "id": "n-QUtjUGJKDZ"
      },
      "outputs": [],
      "source": [
        "def rbf(x1, x2, gamma=1):\n",
        "    \"\"\"\n",
        "    input:\n",
        "        x1: first vector\n",
        "        x2: second vector\n",
        "        gamma: rbf kernel parameter with defalt value 1.\n",
        "    output:\n",
        "        ouput: computed rbf of two input vectors\n",
        "    \"\"\"\n",
        "    distance = np.linalg.norm(x1 - x2)\n",
        "    output = np.exp(-gamma * distance**2)\n",
        "    return output\n",
        "\n",
        "def soft_margin_svm_rbf(X, y, C, gamma=1):\n",
        "    \"\"\"\n",
        "    input:\n",
        "        X: training data\n",
        "        y: training labels\n",
        "        C: errors weight\n",
        "        gamma: rbf kernel parameter with defalt value 1.\n",
        "    output:\n",
        "        support_vectros: data points which are SVs of our model.\n",
        "        support_vector_labels: labels of SVs\n",
        "        support_vector_alphas: alpha coefficient of corresponding SVs\n",
        "    \"\"\"\n",
        "\n",
        "    # TODO: Write your code here\n",
        "\n",
        "    n_samples, n_features = X.shape\n",
        "\n",
        "    K = np.zeros((n_samples, n_samples))\n",
        "    for i in range(n_samples):\n",
        "      for j in range(n_samples):\n",
        "        K[i, j] = rbf(X[i],X[j], gamma)\n",
        "\n",
        "    #print(f\"P:{(np.outer(y,y)*K).shape}\\n{np.outer(y,y)*K}\")\n",
        "\n",
        "    P = cvxopt.matrix(np.outer(y,y)*K)\n",
        "    q = cvxopt.matrix(-1 * np.ones((n_samples)))\n",
        "\n",
        "    t1 = np.diag(-1 * np.ones(n_samples))\n",
        "    t2 = np.identity(n_samples)\n",
        "    G = cvxopt.matrix(np.vstack((t1,t2)))\n",
        "\n",
        "    h = cvxopt.matrix(np.hstack((np.zeros(n_samples), C * np.ones(n_samples))))\n",
        "\n",
        "    A = cvxopt.matrix(y*1.,(1,n_samples))\n",
        "    #print(f\"A:{A}\")\n",
        "    b = cvxopt.matrix(0.0)\n",
        "\n",
        "    solution = cvxopt.solvers.qp(P, q, G, h, A, b)\n",
        "\n",
        "    alphas = np.ravel(solution['x'])\n",
        "    support_vector_indices = np.where(alphas > 1e-5)[0]\n",
        "    support_vectors = X[support_vector_indices]\n",
        "    support_vector_labels = y[support_vector_indices]\n",
        "    support_vector_alphas = alphas[support_vector_indices]\n",
        "\n",
        "    return support_vectors, support_vector_labels, support_vector_alphas\n",
        "\n",
        "def predict_rbf(x_test, support_vectors, support_vector_labels, support_vector_alphas,gamma=1):\n",
        "\n",
        "    # for x in x_test:\n",
        "    #   K = np.zeros(len(support_vectors))\n",
        "    #   for i in range(len(support_vectors)):\n",
        "    #     K[i] = rbf(support_vectors[i],x)\n",
        "    # y_pred = np.dot((support_vector_alphas * support_vector_labels).reshape(1,-1), K).flatten()\n",
        "    y_predict = np.zeros(len(x_test))\n",
        "    for i in range(len(x_test)):\n",
        "      s = 0\n",
        "      for a, sv_y, sv in zip(support_vector_alphas, support_vector_labels, support_vectors):\n",
        "          s += a * sv_y * rbf(x_test[i], sv,gamma)\n",
        "      y_predict[i] = s\n",
        "\n",
        "    Kb = np.zeros((len(support_vectors),len(support_vectors)))\n",
        "    for i in range(len(support_vectors)):\n",
        "      for j in range(len(support_vectors)):\n",
        "        Kb[i][j] = rbf(support_vectors[i],support_vectors[j],gamma)\n",
        "    b = 0\n",
        "    for n in range(len(support_vectors)):\n",
        "      b = b + support_vector_labels[n]\n",
        "      b -= np.sum((support_vector_alphas * support_vector_labels.flatten()) * Kb[i])\n",
        "    b = b / len(support_vectors)\n",
        "\n",
        "    return np.sign(y_predict + b)\n",
        "\n"
      ]
    },
    {
      "cell_type": "code",
      "execution_count": 28,
      "metadata": {
        "id": "iNkYsnkUJKDa",
        "outputId": "8e2f38a7-122b-4411-ceef-e9f353c78bb0",
        "colab": {
          "base_uri": "https://localhost:8080/"
        }
      },
      "outputs": [
        {
          "output_type": "stream",
          "name": "stdout",
          "text": [
            "gamma:0.001\n",
            "     pcost       dcost       gap    pres   dres\n",
            " 0: -6.7874e+02 -3.1400e+03  1e+04  3e+00  2e-14\n",
            " 1: -4.5867e+02 -2.0330e+03  2e+03  8e-02  2e-14\n",
            " 2: -5.2247e+02 -7.8008e+02  3e+02  1e-02  1e-14\n",
            " 3: -5.9276e+02 -6.5874e+02  7e+01  2e-03  2e-14\n",
            " 4: -6.0930e+02 -6.3583e+02  3e+01  7e-04  2e-14\n",
            " 5: -6.1790e+02 -6.2451e+02  7e+00  1e-04  2e-14\n",
            " 6: -6.2049e+02 -6.2127e+02  8e-01  8e-06  2e-14\n",
            " 7: -6.2081e+02 -6.2090e+02  9e-02  4e-07  2e-14\n",
            " 8: -6.2085e+02 -6.2086e+02  6e-03  2e-08  2e-14\n",
            " 9: -6.2085e+02 -6.2085e+02  3e-04  1e-09  2e-14\n",
            "Optimal solution found.\n",
            "gamma:0.01\n",
            "     pcost       dcost       gap    pres   dres\n",
            " 0: -5.9426e+02 -3.1900e+03  2e+04  3e+00  2e-14\n",
            " 1: -4.2061e+02 -2.0627e+03  2e+03  2e-01  1e-14\n",
            " 2: -4.3642e+02 -7.5981e+02  4e+02  3e-02  1e-14\n",
            " 3: -4.8901e+02 -5.9705e+02  1e+02  7e-03  1e-14\n",
            " 4: -5.0704e+02 -5.6354e+02  6e+01  3e-03  1e-14\n",
            " 5: -5.1778e+02 -5.4411e+02  3e+01  1e-03  1e-14\n",
            " 6: -5.2477e+02 -5.3284e+02  8e+00  3e-04  1e-14\n",
            " 7: -5.2670e+02 -5.2991e+02  3e+00  9e-05  1e-14\n",
            " 8: -5.2777e+02 -5.2838e+02  6e-01  1e-05  1e-14\n",
            " 9: -5.2801e+02 -5.2807e+02  6e-02  3e-15  1e-14\n",
            "10: -5.2804e+02 -5.2804e+02  3e-03  3e-15  1e-14\n",
            "11: -5.2804e+02 -5.2804e+02  4e-05  7e-15  1e-14\n",
            "Optimal solution found.\n",
            "gamma:1\n",
            "     pcost       dcost       gap    pres   dres\n",
            " 0: -2.4267e+02 -2.1892e+03  7e+03  2e+00  1e-15\n",
            " 1: -2.1907e+02 -1.2055e+03  1e+03  9e-02  7e-16\n",
            " 2: -2.3969e+02 -3.9926e+02  2e+02  1e-02  8e-16\n",
            " 3: -2.5580e+02 -2.9077e+02  4e+01  2e-03  5e-16\n",
            " 4: -2.6018e+02 -2.6958e+02  9e+00  4e-04  4e-16\n",
            " 5: -2.6154e+02 -2.6379e+02  2e+00  5e-05  4e-16\n",
            " 6: -2.6192e+02 -2.6233e+02  4e-01  5e-06  4e-16\n",
            " 7: -2.6200e+02 -2.6204e+02  4e-02  3e-07  4e-16\n",
            " 8: -2.6201e+02 -2.6201e+02  1e-03  8e-09  4e-16\n",
            " 9: -2.6201e+02 -2.6201e+02  3e-05  1e-10  4e-16\n",
            "Optimal solution found.\n",
            "gamma:10\n",
            "     pcost       dcost       gap    pres   dres\n",
            " 0: -4.7444e+02 -2.1384e+03  2e+03  9e-14  7e-16\n",
            " 1: -4.8253e+02 -5.2383e+02  4e+01  2e-15  4e-16\n",
            " 2: -4.8989e+02 -4.9038e+02  5e-01  1e-15  2e-16\n",
            " 3: -4.8998e+02 -4.8998e+02  5e-03  2e-15  1e-16\n",
            " 4: -4.8998e+02 -4.8998e+02  5e-05  3e-15  1e-16\n",
            "Optimal solution found.\n",
            "gamma:100\n",
            "     pcost       dcost       gap    pres   dres\n",
            " 0: -4.7461e+02 -2.1386e+03  2e+03  7e-13  3e-16\n",
            " 1: -4.8271e+02 -5.2326e+02  4e+01  3e-14  3e-16\n",
            " 2: -4.9004e+02 -4.9050e+02  5e-01  6e-14  1e-16\n",
            " 3: -4.9013e+02 -4.9014e+02  5e-03  3e-14  1e-16\n",
            " 4: -4.9013e+02 -4.9013e+02  5e-05  8e-15  8e-17\n",
            "Optimal solution found.\n",
            "best_gamma:0.01\n"
          ]
        }
      ],
      "source": [
        "gammas = [0.001, 0.01, 1, 10, 100]\n",
        "best_gamma = None\n",
        "best_support_vectors = None\n",
        "best_support_vector_labels = None\n",
        "best_support_vector_alphas = None\n",
        "\n",
        "# TODO: Write your code here\n",
        "balanced_accuracies = []\n",
        "best_balanced_accuracy = 0\n",
        "best_gamma = None\n",
        "for gamma in gammas:\n",
        "  print(f\"gamma:{gamma}\")\n",
        "  C = 1.0\n",
        "  support_vectors, support_vector_labels, support_vector_alphas = soft_margin_svm_rbf(X_relevant_train, y_binary_train, C, gamma)\n",
        "  y_pred_val = predict_rbf(X_relevant_val,support_vectors, support_vector_labels, support_vector_alphas, gamma)\n",
        "\n",
        "  ba = balanced_accuracy_score(y_binary_val, y_pred_val)\n",
        "  if ba > best_balanced_accuracy :\n",
        "     best_balanced_accuracy = ba\n",
        "     best_gamma = gamma\n",
        "     best_support_vector_alphas = support_vector_alphas\n",
        "     best_support_vector_labels = support_vector_labels\n",
        "     best_support_vectors = support_vectors\n",
        "\n",
        "print(f\"best_gamma:{best_gamma}\")"
      ]
    },
    {
      "cell_type": "code",
      "execution_count": 29,
      "metadata": {
        "id": "bkrGusbVJKDa",
        "outputId": "32d8aeed-b4fb-45fb-c7e4-1e9002515b9d",
        "colab": {
          "base_uri": "https://localhost:8080/"
        }
      },
      "outputs": [
        {
          "output_type": "stream",
          "name": "stdout",
          "text": [
            "Accuracy:  0.833984375\n",
            "Balanced Accuracy:  0.8070186977356009\n",
            "Confusion Matrix:\n",
            " [[108  37]\n",
            " [ 48 319]]\n"
          ]
        }
      ],
      "source": [
        "y_pred = predict_rbf(X_relevant_test, best_support_vectors, best_support_vector_labels, best_support_vector_alphas,best_gamma)\n",
        "_, _, confusion_mat = evaluate(y_binary_test, y_pred)"
      ]
    },
    {
      "cell_type": "markdown",
      "metadata": {
        "id": "OmAWOvAwJKDa"
      },
      "source": [
        "# Multiclass SVM (30 points + 50 points optional)"
      ]
    },
    {
      "cell_type": "markdown",
      "metadata": {
        "id": "l0UeH4zZJKDa"
      },
      "source": [
        "Now we want implement Multiclass SVM. Use ```SVC``` function with rbf kernel from ```scikit-learn``` package on all train datas (all six classes) and choose best hyperparameters for $C$ and $\\gamma$ between 0.01, 0.1, 1, 10, 100. After that evaluate it with your function.\n",
        "\n",
        "Note that in this example we had enough data to split them in train and validation but in case that we don't have enough data, ```scikit-learn``` has a built-in fast library named ```GridSearchCV()``` which can help us in hyperparameter tunning with cross validation."
      ]
    },
    {
      "cell_type": "code",
      "source": [
        "from sklearn import svm"
      ],
      "metadata": {
        "id": "RhUv5iKPlkYn"
      },
      "execution_count": 30,
      "outputs": []
    },
    {
      "cell_type": "code",
      "execution_count": 31,
      "metadata": {
        "id": "n62kjQ1sJKDa",
        "colab": {
          "base_uri": "https://localhost:8080/"
        },
        "outputId": "978bc949-c7aa-423a-b46b-3714dace785f"
      },
      "outputs": [
        {
          "output_type": "stream",
          "name": "stdout",
          "text": [
            "Accuracy:  0.9142324425108763\n",
            "Balanced Accuracy:  0.8852709524812351\n",
            "Confusion Matrix:\n",
            " [[390   0   5   0   0   0]\n",
            " [  0 188   0   3   3   0]\n",
            " [  1   2 306  10   1   6]\n",
            " [  1   2  36  83   3  20]\n",
            " [  0   4   0   1 170   7]\n",
            " [  0   0   8  14  11 334]]\n"
          ]
        },
        {
          "output_type": "execute_result",
          "data": {
            "text/plain": [
              "(0.9142324425108763,\n",
              " 0.8852709524812351,\n",
              " array([[390,   0,   5,   0,   0,   0],\n",
              "        [  0, 188,   0,   3,   3,   0],\n",
              "        [  1,   2, 306,  10,   1,   6],\n",
              "        [  1,   2,  36,  83,   3,  20],\n",
              "        [  0,   4,   0,   1, 170,   7],\n",
              "        [  0,   0,   8,  14,  11, 334]]))"
            ]
          },
          "metadata": {},
          "execution_count": 31
        }
      ],
      "source": [
        "Cs = [0.01, 0.1, 1, 10, 100]\n",
        "gammas = [0.01, 0.1, 1, 10, 100]\n",
        "# TODO: Write your code here\n",
        "bestC = None\n",
        "bestGamma = None\n",
        "best_accuracy = 0;\n",
        "for c in Cs:\n",
        "  for gamma in gammas:\n",
        "    rbfsvm = svm.SVC(kernel='rbf',C = c, gamma = gamma)\n",
        "    rbfsvm.fit(X_train_scaled, y_train)\n",
        "    y_pred = rbfsvm.predict(X_val_scaled)\n",
        "    acc = balanced_accuracy_score(y_val,y_pred)\n",
        "    if acc > best_accuracy:\n",
        "       best_accuracy = acc\n",
        "       bestC = c\n",
        "       bestGamma = gamma\n",
        "\n",
        "bestRbfSvm = svm.SVC(kernel='rbf',C = bestC, gamma = bestGamma)\n",
        "bestRbfSvm.fit(X_train_scaled,y_train)\n",
        "y_pred = bestRbfSvm.predict(X_test_scaled)\n",
        "\n",
        "evaluate(y_test=y_test,y_pred=y_pred)\n"
      ]
    },
    {
      "cell_type": "markdown",
      "metadata": {
        "id": "Qdw3PvUnJKDa"
      },
      "source": [
        "Implement Multiclass SVM from scratch without using ready functions (optional)."
      ]
    },
    {
      "cell_type": "code",
      "execution_count": null,
      "metadata": {
        "id": "JE4n6tv0JKDa"
      },
      "outputs": [],
      "source": [
        "# TODO: Write your code here"
      ]
    },
    {
      "cell_type": "markdown",
      "metadata": {
        "id": "84GPvwkXJKDa"
      },
      "source": [
        "# Different SVM Kernels (40 points)"
      ]
    },
    {
      "cell_type": "markdown",
      "metadata": {
        "id": "Vle8QSEpJKDa"
      },
      "source": [
        "A kernel in SVM is like a tool that helps solve tricky problems. It lets us work in a space with many dimensions, making complex calculations easier. With kernels, we can deal with lots of dimensions, even an endless amount. Kernels are crucial for sorting data into groups and help spot patterns in the data we're looking at. They're especially good at tackling twisty problems with a straightforward approach.\n",
        "\n",
        "Sometimes, finding a straight line or flat surface to divide data isn't possible, especially as we explore more dimensions. That's where different types of SVM kernels come in handy. They transform twisty, complicated data into a simpler form that's easier to separate. In this explanation, we talk about 4 popular types of these kernels. Also in following cells you can use any package.\n",
        "\n",
        "<img src=\"./kernel.jpg\" alt=\"Types of Kernel Functions\"  align=center class=\"saturate\">"
      ]
    },
    {
      "cell_type": "code",
      "source": [
        "from sklearn import svm"
      ],
      "metadata": {
        "id": "NEbl0zOdxZdv"
      },
      "execution_count": 32,
      "outputs": []
    },
    {
      "cell_type": "markdown",
      "metadata": {
        "id": "UidiWeNWJKDa"
      },
      "source": [
        "### Linear Kernel"
      ]
    },
    {
      "cell_type": "markdown",
      "metadata": {
        "id": "-vCkn9G7JKDa"
      },
      "source": [
        "This is the simplest kind of kernel, typically working in one dimension. It works best when dealing with a lot of features. Linear kernels are quicker than other types.\n",
        "\n",
        "**Formula:**\n",
        "\n",
        "$$F(x, x_j) = sum(x, x_j)$$\n",
        "\n",
        "Now Implement svc classifier using a linear kernel. Get the prediction and evaluate it by function which you implemented before. Also plot confusion matrix by `Seaborn`."
      ]
    },
    {
      "cell_type": "code",
      "source": [
        "X_evaluation = np.vstack((X_val_scaled,X_test_scaled))\n",
        "y_evaluation = np.hstack((y_val,y_test))"
      ],
      "metadata": {
        "id": "AKI_964swfkO"
      },
      "execution_count": 33,
      "outputs": []
    },
    {
      "cell_type": "code",
      "execution_count": 34,
      "metadata": {
        "id": "nnKheU3_JKDe",
        "outputId": "b928d350-a95b-4ec1-daee-ea74b5c3b483",
        "colab": {
          "base_uri": "https://localhost:8080/",
          "height": 782
        }
      },
      "outputs": [
        {
          "output_type": "stream",
          "name": "stdout",
          "text": [
            "Accuracy:  0.8609168609168609\n",
            "Balanced Accuracy:  0.8225907884178353\n",
            "Confusion Matrix:\n",
            " [[608   0  11   0   6   0]\n",
            " [  0 268   0   1  22   0]\n",
            " [  4   1 481  36   1   2]\n",
            " [  3   2  54 112   6  68]\n",
            " [  5  16   1   2 222  26]\n",
            " [  0   0  12  62  17 525]]\n"
          ]
        },
        {
          "output_type": "display_data",
          "data": {
            "text/plain": [
              "<Figure size 1000x700 with 2 Axes>"
            ],
            "image/png": "[encoded data removed]"
          },
          "metadata": {}
        }
      ],
      "source": [
        "# TODO: Write your code here\n",
        "linearSvm = svm.SVC(kernel = \"linear\")\n",
        "linearSvm.fit(X_train_scaled,y_train)\n",
        "y_pred = linearSvm.predict(X_evaluation)\n",
        "_,_,cm = evaluate(y_pred=y_pred,y_test = y_evaluation)\n",
        "\n",
        "cm_matrix = pd.DataFrame(data=cm, columns= linearSvm.classes_,\n",
        "                                index= linearSvm.classes_)\n",
        "#sns.heatmap(cm_matrix, annot=True, fmt='d', cmap='mako')\n",
        "plt.figure(figsize=(10,7))\n",
        "sns.heatmap(cm_matrix, annot=True, fmt='d', cmap = 'mako')\n",
        "plt.xlabel('Predicted')\n",
        "plt.ylabel('Truth')\n",
        "plt.show()"
      ]
    },
    {
      "cell_type": "markdown",
      "metadata": {
        "id": "LsxJHz5fJKDe"
      },
      "source": [
        "### Gaussian RBF kernel"
      ]
    },
    {
      "cell_type": "markdown",
      "metadata": {
        "id": "8Oak4LlLJKDe"
      },
      "source": [
        "This kernel is a favorite choice in SVM, especially for data that doesn't line up straight. It's great for sorting data when you don't know much about it beforehand.\n",
        "\n",
        "**Formula:**\n",
        "\n",
        "$$F(x, x_j) = \\exp{(-\\gamma ||x - xj||^2)}$$\n",
        "\n",
        "Now, configure the SVC classifier with a sigmoid kernel. Get the prediction and evaluate it by function which you implemented before. Also plot confusion matrix as previous part."
      ]
    },
    {
      "cell_type": "code",
      "execution_count": 35,
      "metadata": {
        "id": "cn0DtKxfJKDe",
        "outputId": "e67a5308-46d1-43c3-edbc-0995358365ab",
        "colab": {
          "base_uri": "https://localhost:8080/",
          "height": 782
        }
      },
      "outputs": [
        {
          "output_type": "stream",
          "name": "stdout",
          "text": [
            "Accuracy:  0.8974358974358975\n",
            "Balanced Accuracy:  0.8709301728251438\n",
            "Confusion Matrix:\n",
            " [[612   1  10   0   2   0]\n",
            " [  0 281   1   3   5   1]\n",
            " [  3   1 497  15   2   7]\n",
            " [  3   2  52 144   3  41]\n",
            " [  6   9   1   2 237  17]\n",
            " [  0   0  12  56   9 539]]\n"
          ]
        },
        {
          "output_type": "display_data",
          "data": {
            "text/plain": [
              "<Figure size 1000x700 with 2 Axes>"
            ],
            "image/png": "[encoded data removed]"
          },
          "metadata": {}
        }
      ],
      "source": [
        "# TODO: Write your code here\n",
        "rbfSvm = svm.SVC(kernel = \"rbf\")\n",
        "rbfSvm.fit(X_train_scaled,y_train)\n",
        "y_pred = rbfSvm.predict(X_evaluation)\n",
        "_,_,cm = evaluate(y_pred=y_pred,y_test = y_evaluation)\n",
        "\n",
        "cm_matrix = pd.DataFrame(data=cm, columns= rbfSvm.classes_,\n",
        "                                index= rbfSvm.classes_)\n",
        "\n",
        "plt.figure(figsize=(10,7))\n",
        "sns.heatmap(cm_matrix, annot=True, fmt='d', cmap = 'mako')\n",
        "plt.xlabel('Predicted')\n",
        "plt.ylabel('Truth')\n",
        "plt.show()"
      ]
    },
    {
      "cell_type": "markdown",
      "metadata": {
        "id": "PSF0jBdLJKDe"
      },
      "source": [
        "### Polynomial Kernel"
      ]
    },
    {
      "cell_type": "markdown",
      "metadata": {
        "id": "DKv-n4wVJKDe"
      },
      "source": [
        "This is a broader version of the linear kernel. It's not as popular because it's not as quick or precise.\n",
        "\n",
        "**Formula:**\n",
        "\n",
        "$$F(x, x_j) = (x.x_j+1)^d$$\n",
        "\n",
        "Now, set up the SVC classifier using a *polynomial* kernel. Get the prediction and evaluate it by function which you implemented before. Also plot confusion matrix as previous parts."
      ]
    },
    {
      "cell_type": "code",
      "execution_count": 36,
      "metadata": {
        "id": "fRKz8opTJKDf",
        "outputId": "4dbb31d8-a667-4628-84e6-7b9d4c16613d",
        "colab": {
          "base_uri": "https://localhost:8080/",
          "height": 782
        }
      },
      "outputs": [
        {
          "output_type": "stream",
          "name": "stdout",
          "text": [
            "Accuracy:  0.8589743589743589\n",
            "Balanced Accuracy:  0.8306359846031509\n",
            "Confusion Matrix:\n",
            " [[615   1   7   1   1   0]\n",
            " [  3 273   0   9   5   1]\n",
            " [  7   1 464  40   0  13]\n",
            " [ 10   2  35 165   1  32]\n",
            " [ 40   8   0  14 184  26]\n",
            " [  1   0   5  92   8 510]]\n"
          ]
        },
        {
          "output_type": "display_data",
          "data": {
            "text/plain": [
              "<Figure size 1000x700 with 2 Axes>"
            ],
            "image/png": "[encoded data removed]"
          },
          "metadata": {}
        }
      ],
      "source": [
        "# TODO: Write your code here\n",
        "plySvm = svm.SVC(kernel = \"poly\")\n",
        "plySvm.fit(X_train_scaled,y_train)\n",
        "y_pred = plySvm.predict(X_evaluation)\n",
        "_,_,cm = evaluate(y_pred=y_pred,y_test = y_evaluation)\n",
        "\n",
        "cm_matrix = pd.DataFrame(data=cm, columns= plySvm.classes_,\n",
        "                                index= plySvm.classes_)\n",
        "\n",
        "plt.figure(figsize=(10,7))\n",
        "sns.heatmap(cm_matrix, annot=True, fmt='d', cmap = 'mako')\n",
        "plt.xlabel('Predicted')\n",
        "plt.ylabel('Truth')\n",
        "plt.show()"
      ]
    },
    {
      "cell_type": "markdown",
      "metadata": {
        "id": "mcALnOe-JKDf"
      },
      "source": [
        "### Sigmoid Kernel"
      ]
    },
    {
      "cell_type": "markdown",
      "metadata": {
        "id": "AMB_EvobJKDf"
      },
      "source": [
        "This is mainly chosen for use with neural networks. The kernel function acts like the activation function in a two-layer perceptron neural network model, helping to activate the neurons.\n",
        "\n",
        "**Formula:**\n",
        "\n",
        "$$F(x, x_j) = \\tanh(α x a y + c)$$\n",
        "\n",
        "Now, configure the SVC classifier with a sigmoid kernel. Get the prediction and evaluate it by function which you implemented before. Also plot confusion matrix as previous parts."
      ]
    },
    {
      "cell_type": "code",
      "execution_count": 37,
      "metadata": {
        "id": "bFIDHD7EJKDf",
        "outputId": "be5aa49a-c2dd-4258-fc88-18f3a867eec7",
        "colab": {
          "base_uri": "https://localhost:8080/",
          "height": 783
        }
      },
      "outputs": [
        {
          "output_type": "stream",
          "name": "stdout",
          "text": [
            "Accuracy:  0.7202797202797203\n",
            "Balanced Accuracy:  0.6797588059716233\n",
            "Confusion Matrix:\n",
            " [[504  11  32   0  78   0]\n",
            " [ 24 257   0   4   6   0]\n",
            " [  3   1 477  40   1   3]\n",
            " [  3   4  55  76  24  83]\n",
            " [ 23  50   5  41 143  10]\n",
            " [  0   0  15  88 116 397]]\n"
          ]
        },
        {
          "output_type": "display_data",
          "data": {
            "text/plain": [
              "<Figure size 1000x700 with 2 Axes>"
            ],
            "image/png": "[encoded data removed]"
          },
          "metadata": {}
        }
      ],
      "source": [
        "# TODO: Write your code here\n",
        "sigmoidSVM = svm.SVC(kernel = \"sigmoid\")\n",
        "sigmoidSVM.fit(X_train_scaled,y_train)\n",
        "y_pred = sigmoidSVM.predict(X_evaluation)\n",
        "_,_,cm = evaluate(y_pred=y_pred,y_test = y_evaluation)\n",
        "\n",
        "cm_matrix = pd.DataFrame(data=cm, columns= sigmoidSVM.classes_,\n",
        "                                index= sigmoidSVM.classes_)\n",
        "\n",
        "plt.figure(figsize=(10,7))\n",
        "sns.heatmap(cm_matrix, annot=True, fmt='d', cmap = 'mako')\n",
        "plt.xlabel('Predicted')\n",
        "plt.ylabel('Truth')\n",
        "plt.show()"
      ]
    },
    {
      "cell_type": "markdown",
      "metadata": {
        "id": "7Ebohi0rJKDf"
      },
      "source": [
        "Compare these four kernel functions with each other. What are the main advantages and disadvantages of each one?"
      ]
    },
    {
      "cell_type": "markdown",
      "metadata": {
        "id": "eqN-AEBxJKDf"
      },
      "source": [
        "`TODO: Write Here`\\\\\n",
        "\n",
        "- **Linear**:\n",
        "    - **Advantages**: It is simple and computationally efficient. It works well when the data is linearly separable.\n",
        "    - **Disadvantages**: It cannot handle complex datasets that are not linearly separable.\n",
        "\n",
        "- **RBF**:\n",
        "    - **Advantages**: It can handle non-linearly separable data well and can create complex decision boundaries. It has fewer hyperparameters to tune (usually just the gamma parameter).\n",
        "    - **Disadvantages**: It can be computationally expensive for large datasets. It may also overfit if the gamma parameter is not properly tuned.\n",
        "\n",
        "- **Polynomial**:\n",
        "    - **Advantages**: It can model non-linear decision boundaries, and you can control the complexity of the decision boundaries by changing the degree of the polynomial.\n",
        "    - **Disadvantages**: High-degree polynomials can lead to overfitting. It can be computationally expensive for high-degree polynomials.\n",
        "\n",
        "- **Sigmoid**:\n",
        "    - **Advantages**: It can provide a proxy for neural networks with one hidden layer.\n",
        "    - **Disadvantages**: It is not always a valid kernel function as it does not satisfy Mercer's condition in some cases. This can lead to poor performance.\n",
        "\n",
        "  In the end the choice of kernel function depends on the dataset.\n"
      ]
    }
  ],
  "metadata": {
    "kernelspec": {
      "display_name": "Python 3",
      "language": "python",
      "name": "python3"
    },
    "language_info": {
      "codemirror_mode": {
        "name": "ipython",
        "version": 3
      },
      "file_extension": ".py",
      "mimetype": "text/x-python",
      "name": "python",
      "nbconvert_exporter": "python",
      "pygments_lexer": "ipython3",
      "version": "3.11.2"
    },
    "colab": {
      "provenance": []
    }
  },
  "nbformat": 4,
  "nbformat_minor": 0
}